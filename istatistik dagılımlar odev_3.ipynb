{
 "cells": [
  {
   "cell_type": "code",
   "execution_count": 26,
   "metadata": {},
   "outputs": [
    {
     "name": "stdout",
     "output_type": "stream",
     "text": [
      "                     Number  Dollars  Standard Error\n",
      "Income of Household                                 \n",
      "Under $5,000           4218      968              50\n",
      "$5,000 to  $9,999      3497     7936              41\n",
      "$10,000 to $14,999     5875    12313              34\n",
      "$15,000 to $19,999     6091    17269              30\n",
      "$20,000 to $24,999     6127    22223              31\n"
     ]
    },
    {
     "data": {
      "text/plain": [
       "<matplotlib.axes._subplots.AxesSubplot at 0xa5ea780>"
      ]
     },
     "execution_count": 26,
     "metadata": {},
     "output_type": "execute_result"
    },
    {
     "data": {
      "image/png": "[encoded data removed]",
      "text/plain": [
       "<Figure size 864x432 with 1 Axes>"
      ]
     },
     "metadata": {
      "needs_background": "light"
     },
     "output_type": "display_data"
    }
   ],
   "source": [
    "#Soru_1\n",
    "#Servet ve gelir dağılımları bazen Pareto dağılımı kullanılarak modellenir. \n",
    "#Bunun geçerli olup olmadığına bakmak için şu adresteki veriyi kullanalım. \n",
    "#Bu veriyi kullanarak gelirin dağılımını elde edin. Hangisi dağılıma daha çok uymaktadır?\n",
    "import numpy as np\n",
    "import pandas as pd\n",
    "import matplotlib.pyplot as plt\n",
    "\n",
    "df = pd.read_excel('C:\\\\Users\\\\pc\\\\Desktop\\\\hinc06.xls', index_col=0)\n",
    "data = df[1:]\n",
    "print(data.head())\n",
    "\n",
    "data['Dollars'].hist(figsize=(12,6), bins=20)\n",
    "\n",
    "\n"
   ]
  },
  {
   "cell_type": "code",
   "execution_count": 41,
   "metadata": {},
   "outputs": [
    {
     "name": "stdout",
     "output_type": "stream",
     "text": [
      "Date\n",
      "2015-01-21         NaN\n",
      "2015-01-22    0.028427\n",
      "2015-01-23    0.000000\n",
      "2015-01-26   -0.008907\n",
      "2015-01-27   -0.009297\n",
      "Name: Open, dtype: float64\n"
     ]
    },
    {
     "data": {
      "text/plain": [
       "<matplotlib.axes._subplots.AxesSubplot at 0xaf26a58>"
      ]
     },
     "execution_count": 41,
     "metadata": {},
     "output_type": "execute_result"
    },
    {
     "data": {
      "image/png": "[encoded data removed]",
      "text/plain": [
       "<Figure size 432x288 with 1 Axes>"
      ]
     },
     "metadata": {},
     "output_type": "display_data"
    }
   ],
   "source": [
    "#soru_2\n",
    "#ttps://finance.yahoo.com/ sitesini kullanarak google şirketinin 2015-2017 yılları arasında hisse senedi fiyatlarını elde edin.\n",
    "#Bu veriyi kullanarak hisse senedi getirisini şu formülle hesaplayın: Getiriler dağılımı hangi dağılıma daha yakındır?\n",
    "import datetime as dt\n",
    "import pandas as pd\n",
    "import numpy as np\n",
    "import matplotlib.pyplot as plt\n",
    "from matplotlib import style\n",
    "style.use('ggplot')\n",
    "data = pd.read_csv(\"C:\\\\Users\\\\pc\\\\Desktop\\\\ACKAY.csv\", sep = ',', parse_dates=True, index_col=0)\n",
    "simple_returns1 = (data ['Open'] / data['Open'].shift(1)) - 1\n",
    "simple_returns1.head()\n",
    "print (simple_returns1.head())\n",
    "simple_returns1.hist()\n"
   ]
  },
  {
   "cell_type": "code",
   "execution_count": null,
   "metadata": {},
   "outputs": [],
   "source": []
  },
  {
   "cell_type": "code",
   "execution_count": null,
   "metadata": {},
   "outputs": [],
   "source": []
  }
 ],
 "metadata": {
  "kernelspec": {
   "display_name": "Python 3",
   "language": "python",
   "name": "python3"
  },
  "language_info": {
   "codemirror_mode": {
    "name": "ipython",
    "version": 3
   },
   "file_extension": ".py",
   "mimetype": "text/x-python",
   "name": "python",
   "nbconvert_exporter": "python",
   "pygments_lexer": "ipython3",
   "version": "3.7.1"
  }
 },
 "nbformat": 4,
 "nbformat_minor": 2
}
