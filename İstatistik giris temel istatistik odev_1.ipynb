{
 "cells": [
  {
   "cell_type": "code",
   "execution_count": 52,
   "metadata": {},
   "outputs": [
    {
     "name": "stdout",
     "output_type": "stream",
     "text": [
      "0.4993384378031747\n",
      "30.090499041799113\n",
      "0.07458790707040587\n",
      "0.07458790707040587\n",
      "<class 'pandas.core.frame.DataFrame'>\n",
      "RangeIndex: 100 entries, 0 to 99\n",
      "Data columns (total 3 columns):\n",
      "rand_1    100 non-null float64\n",
      "rand_2    100 non-null float64\n",
      "rand_3    100 non-null float64\n",
      "dtypes: float64(3)\n",
      "memory usage: 2.4 KB\n"
     ]
    }
   ],
   "source": [
    "#numpy kütüphanesini kullanarak üreteceğiniz 3 farklı veri aracılığı ile merkezi eğilim ve dağılım ölçümlerini hem yukarıda verilen matematiksel formülle hem de python'da hazır bulunan (built-in) kodlar aracılığıyla analiz edin!!!\n",
    "import numpy as np\n",
    "data = pd.DataFrame()\n",
    "data['rand_1'] = np.random.rand(100)\n",
    "data['rand_2'] = data['rand_1'] ** 3\n",
    "data['rand_3']= data['rand_2'] + 30\n",
    "print(np.mean(data['rand_1']))\n",
    "print(np.median(data['rand_3']))\n",
    "print(np.var(data['rand_3'], ddof=1))\n",
    "print(data['rand_3'].var())\n",
    "data.rand_1.mean()\n",
    "data.rand_2.median()\n",
    "data.rand_3.std()\n",
    "data.info()"
   ]
  }
 ],
 "metadata": {
  "kernelspec": {
   "display_name": "Python 3",
   "language": "python",
   "name": "python3"
  },
  "language_info": {
   "codemirror_mode": {
    "name": "ipython",
    "version": 3
   },
   "file_extension": ".py",
   "mimetype": "text/x-python",
   "name": "python",
   "nbconvert_exporter": "python",
   "pygments_lexer": "ipython3",
   "version": "3.7.1"
  }
 },
 "nbformat": 4,
 "nbformat_minor": 2
}
