{
 "cells": [
  {
   "cell_type": "code",
   "execution_count": 13,
   "metadata": {},
   "outputs": [
    {
     "name": "stdout",
     "output_type": "stream",
     "text": [
      "Rastgele seçilen bozuk bir bilgisayarın B şirketi tarafından üretilme olasılığı : 0.5\n"
     ]
    }
   ],
   "source": [
    "#soru_olasılık\n",
    "#A şirketinin sattığı bilgisayarın bazılarının bozuk olduğu tespit edilmiştir. \n",
    "#Bilgisyar üreten 3 şirket (A, B ve C) olduğunu varsayımı altında, bu şirketlerin bilgisayar üretim miktarı ve bozuk üretim olasılıkları şu şekildedir:\n",
    "#Toplam Üretim Yüzdesi P(A)=0.40 P(B)=0.40 P(C)=0.20\n",
    "#Hatalı Üretim Olasılığı\n",
    "#P(D|A)=0.015 P(D|B)=0.020 P(D|C)=0.010\n",
    "#Rastgele seçilen bir bozuk bir bilgisayarın B şirketi tarafından üretilme olasılığı nedir?\n",
    "pA = 0.4\n",
    "pB = 0.4\n",
    "pC = 0.2\n",
    "pDifA = 0.015\n",
    "pDifB = 0.020\n",
    "pDifC = 0.010\n",
    "\n",
    "pBifD = (pDifB *  pB )/ ((pDifB *  pB) + (pDifC *  pC) + (pDifA * pA))\n",
    "print('Rastgele seçilen bozuk bir bilgisayarın B şirketi tarafından üretilme olasılığı :'  , pBifD)"
   ]
  }
 ],
 "metadata": {
  "kernelspec": {
   "display_name": "Python 3",
   "language": "python",
   "name": "python3"
  },
  "language_info": {
   "codemirror_mode": {
    "name": "ipython",
    "version": 3
   },
   "file_extension": ".py",
   "mimetype": "text/x-python",
   "name": "python",
   "nbconvert_exporter": "python",
   "pygments_lexer": "ipython3",
   "version": "3.7.1"
  }
 },
 "nbformat": 4,
 "nbformat_minor": 2
}
